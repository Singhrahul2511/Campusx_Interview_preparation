{
 "cells": [
  {
   "cell_type": "code",
   "execution_count": null,
   "id": "175e49b7",
   "metadata": {},
   "outputs": [
    {
     "name": "stdout",
     "output_type": "stream",
     "text": [
      "<__main__.Node object at 0x00000230C41233B0>\n",
      "6\n",
      "<__main__.Node object at 0x00000230C41233B0>\n"
     ]
    }
   ],
   "source": [
    "class Node:\n",
    "    def __init__(self,val):\n",
    "        self.val = val\n",
    "        self.next = None\n",
    "node1 = Node(5)  #->yr process jyada efficint nhi hai lekin samjhne keliye thik hai\n",
    "node2 =Node(6)\n",
    "node3 = Node(7)\n",
    "node4 = Node(8)\n",
    "# i am connecting these all nodes\n",
    "node1.next = node2\n",
    "node2.next = node3\n",
    "node3.next = node4\n",
    "node4.next = None\n",
    "print(node1.next.next.next) #4th node ka address hai ye\n",
    "print(node1.next.val) #2nd node ka value\n",
    "print(node4)"
   ]
  },
  {
   "cell_type": "markdown",
   "id": "ef159f10",
   "metadata": {},
   "source": [
    "### 2. Append and Traversal in Singly-Linked-List"
   ]
  },
  {
   "cell_type": "code",
   "execution_count": 19,
   "id": "01518cdd",
   "metadata": {},
   "outputs": [
    {
     "name": "stdout",
     "output_type": "stream",
     "text": [
      "10 15 20 \n",
      "10 15 13 20 \n",
      "10 15 13 13 20 \n",
      "10 15 13 20 \n"
     ]
    }
   ],
   "source": [
    "class Node:\n",
    "    def __init__(self,val):\n",
    "        self.val = val\n",
    "        self.next = None\n",
    "\n",
    "class SinglyLinkedList:\n",
    "    def __init__(self)->None:\n",
    "        self.head = None\n",
    "# linked list appending\n",
    "\n",
    "    def append(self,data):\n",
    "        new_node = Node(data)\n",
    "        #if self.head is None:\n",
    "        if not self.head:\n",
    "            self.head = new_node\n",
    "        else:\n",
    "            current = self.head\n",
    "            while current.next is not None:\n",
    "                current = current.next\n",
    "            current.next = new_node\n",
    "\n",
    "# Linked list traversal\n",
    "    def traverse(self):\n",
    "        if not self.head:\n",
    "            print(\"SLL is emply\")\n",
    "        else:\n",
    "            current = self.head\n",
    "            while current is not None:\n",
    "                print(current.val, end = \" \")\n",
    "                current = current.next\n",
    "            print()\n",
    "\n",
    "## how to insert at specific position ->TC[O(N)],SC[O(1)]\n",
    "    \n",
    "    def insert_at(self,val,position):\n",
    "        new_node = Node(val)\n",
    "        if position==0:\n",
    "            new_node.next = self.head\n",
    "            self.head = new_node\n",
    "        else:\n",
    "            current = self.head\n",
    "            prev_node = None\n",
    "            count = 0\n",
    "            while current is not None and count<position:\n",
    "                prev_node = current\n",
    "                current = current.next\n",
    "                count +=1\n",
    "            prev_node.next = new_node\n",
    "            new_node.next = current\n",
    "# Deleting element at specific place in linked list\n",
    "    def delete(self,val):\n",
    "        temp = self.head\n",
    "        if temp.next is not None:\n",
    "            if temp.val ==val:\n",
    "                self.head = temp.next\n",
    "                del temp\n",
    "                return\n",
    "            else:\n",
    "                found = False\n",
    "                prev = None\n",
    "                while temp is not None:\n",
    "                    if temp.val ==val:\n",
    "                        found = True\n",
    "                        break\n",
    "                    prev = temp\n",
    "                    temp = temp.next\n",
    "                if found:\n",
    "                    prev.next = temp.next\n",
    "                    return\n",
    "                else:\n",
    "                    print(\"Node Not Found\")\n",
    "\n",
    "sll = SinglyLinkedList()\n",
    "sll.append(10)\n",
    "sll.append(15)\n",
    "sll.append(20)\n",
    "sll.traverse()\n",
    "sll.insert_at(13,2)\n",
    "sll.traverse()\n",
    "sll.insert_at(13,2)\n",
    "sll.traverse()\n",
    "sll.delete(13)\n",
    "sll.traverse()"
   ]
  },
  {
   "cell_type": "code",
   "execution_count": null,
   "id": "9bb0a7f0",
   "metadata": {},
   "outputs": [],
   "source": []
  }
 ],
 "metadata": {
  "kernelspec": {
   "display_name": "Python (socialmedia_env)",
   "language": "python",
   "name": "socialmedia_env"
  },
  "language_info": {
   "codemirror_mode": {
    "name": "ipython",
    "version": 3
   },
   "file_extension": ".py",
   "mimetype": "text/x-python",
   "name": "python",
   "nbconvert_exporter": "python",
   "pygments_lexer": "ipython3",
   "version": "3.12.4"
  }
 },
 "nbformat": 4,
 "nbformat_minor": 5
}
