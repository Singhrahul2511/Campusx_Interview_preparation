{
 "cells": [
  {
   "cell_type": "code",
   "execution_count": null,
   "id": "0064b634",
   "metadata": {},
   "outputs": [
    {
     "name": "stdout",
     "output_type": "stream",
     "text": [
      "stack content = <__main__.Stack object at 0x00000282FD5C6D20>\n",
      "popped item = 15\n",
      "stack content = <__main__.Stack object at 0x00000282FD5C6D20>\n",
      "top item after pop = 10\n",
      "stack is empty = False\n"
     ]
    }
   ],
   "source": [
    "class Stack:\n",
    "    def __init__(self):\n",
    "        self.items = []\n",
    "\n",
    "    def is_empty(self):\n",
    "        return len(self.items) ==0\n",
    "    \n",
    "    def push(self,item):\n",
    "        self.items.append(item)\n",
    "\n",
    "    def pop(self):\n",
    "        if len(self.items) ==0:\n",
    "            return \"cannot pop, stack is emply\"\n",
    "        x = self.items.pop()\n",
    "        return x\n",
    "    \n",
    "    def top(self):\n",
    "        if len(self.items) ==0:\n",
    "            return \"Cannot top, stack is empty\"\n",
    "        return self.items[-1]\n",
    "    \n",
    "    def size(self):\n",
    "        return len(self.items)\n",
    "    \n",
    "stack = Stack()\n",
    "stack.push(5)\n",
    "stack.push(10)\n",
    "stack.push(15)\n",
    "print(f\"stack content = {stack}\")\n",
    "print(f\"popped item = {stack.pop()}\")\n",
    "print(f\"stack content = {stack}\")\n",
    "print(f\"top item after pop = {stack.top()}\")\n",
    "print(f\"stack is empty = {stack.is_empty()}\")"
   ]
  },
  {
   "cell_type": "markdown",
   "id": "a416b481",
   "metadata": {},
   "source": [
    "## implementing STACK using QUEUE"
   ]
  },
  {
   "cell_type": "code",
   "execution_count": 4,
   "id": "028cf00a",
   "metadata": {},
   "outputs": [
    {
     "name": "stdout",
     "output_type": "stream",
     "text": [
      "deque([9, 1, 100, 200, 300])\n",
      "deque([1, 100, 200, 300])\n"
     ]
    }
   ],
   "source": [
    "from collections import deque\n",
    "lst = deque([])\n",
    "lst.append(100)\n",
    "lst.append(200)\n",
    "lst.append(300)\n",
    "lst.appendleft(1)\n",
    "lst.appendleft(9)\n",
    "\n",
    "print(lst)\n",
    "lst.popleft()\n",
    "print(lst)"
   ]
  },
  {
   "cell_type": "code",
   "execution_count": 17,
   "id": "21a811f1",
   "metadata": {},
   "outputs": [
    {
     "name": "stdout",
     "output_type": "stream",
     "text": [
      "Stack content = [3, 2, 1]\n",
      "Popped item = 3\n",
      "Stack content = [2, 1]\n",
      "Top item after pop = 2\n",
      "Stack is empty = False\n"
     ]
    }
   ],
   "source": [
    "from collections import deque\n",
    "class StackUsingQueue:\n",
    "\n",
    "\n",
    "    def __init__(self):\n",
    "        self.queue  =deque()\n",
    "\n",
    "\n",
    "    def push(self,item):\n",
    "        self.queue.append(item)\n",
    "        for _ in range(len(self.queue)-1):\n",
    "            self.queue.append(self.queue.popleft()) \n",
    "\n",
    "\n",
    "    def pop(self):\n",
    "        if len(self.queue) ==0:\n",
    "            return \"stack is empty\"\n",
    "        return self.queue.popleft()\n",
    "    \n",
    "\n",
    "    def peek(self):\n",
    "        if len(self.queue) ==0:\n",
    "            return \"Stack is empty\"\n",
    "        return self.queue[0]\n",
    "    \n",
    "\n",
    "    def is_empty(self):\n",
    "        return len(self.queue) ==0\n",
    "    \n",
    "\n",
    "    def size(self):\n",
    "        return len(self.queue)\n",
    "    \n",
    "\n",
    "    def __str__(self): # this is used to print the list of stack isko directly bhi kr skte ho bhosdike --> line no = 47\n",
    "        return str(list(self.queue))\n",
    "    \n",
    "\n",
    "if __name__ == \"__main__\":\n",
    "    stack = StackUsingQueue()\n",
    "    stack.push(1)\n",
    "    stack.push(2)\n",
    "    stack.push(3)\n",
    "    print(f\"Stack content = {stack}\")  # Note: This will print the object reference\n",
    "    print(f\"Popped item = {stack.pop()}\")\n",
    "    print(f\"Stack content = {stack}\")\n",
    "    # print(\"stack content is\",str(list(stack.queue)))\n",
    "    print(f\"Top item after pop = {stack.peek()}\")\n",
    "    print(f\"Stack is empty = {stack.is_empty()}\")\n"
   ]
  },
  {
   "cell_type": "code",
   "execution_count": null,
   "id": "5cefcb68",
   "metadata": {},
   "outputs": [],
   "source": []
  }
 ],
 "metadata": {
  "kernelspec": {
   "display_name": "Python (socialmedia_env)",
   "language": "python",
   "name": "socialmedia_env"
  },
  "language_info": {
   "codemirror_mode": {
    "name": "ipython",
    "version": 3
   },
   "file_extension": ".py",
   "mimetype": "text/x-python",
   "name": "python",
   "nbconvert_exporter": "python",
   "pygments_lexer": "ipython3",
   "version": "3.12.4"
  }
 },
 "nbformat": 4,
 "nbformat_minor": 5
}
