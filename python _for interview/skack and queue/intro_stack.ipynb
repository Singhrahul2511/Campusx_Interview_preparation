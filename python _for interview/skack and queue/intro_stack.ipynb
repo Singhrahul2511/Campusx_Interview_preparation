{
 "cells": [
  {
   "cell_type": "code",
   "execution_count": null,
   "id": "0064b634",
   "metadata": {},
   "outputs": [
    {
     "name": "stdout",
     "output_type": "stream",
     "text": [
      "stack content = <__main__.Stack object at 0x00000282FD5C6D20>\n",
      "popped item = 15\n",
      "stack content = <__main__.Stack object at 0x00000282FD5C6D20>\n",
      "top item after pop = 10\n",
      "stack is empty = False\n"
     ]
    }
   ],
   "source": [
    "class Stack:\n",
    "    def __init__(self):\n",
    "        self.items = []\n",
    "\n",
    "    def is_empty(self):\n",
    "        return len(self.items) ==0\n",
    "    \n",
    "    def push(self,item):\n",
    "        self.items.append(item)\n",
    "\n",
    "    def pop(self):\n",
    "        if len(self.items) ==0:\n",
    "            return \"cannot pop, stack is emply\"\n",
    "        x = self.items.pop()\n",
    "        return x\n",
    "    \n",
    "    def top(self):\n",
    "        if len(self.items) ==0:\n",
    "            return \"Cannot top, stack is empty\"\n",
    "        return self.items[-1]\n",
    "    \n",
    "    def size(self):\n",
    "        return len(self.items)\n",
    "    \n",
    "stack = Stack()\n",
    "stack.push(5)\n",
    "stack.push(10)\n",
    "stack.push(15)\n",
    "print(f\"stack content = {stack}\")\n",
    "print(f\"popped item = {stack.pop()}\")\n",
    "print(f\"stack content = {stack}\")\n",
    "print(f\"top item after pop = {stack.top()}\")\n",
    "print(f\"stack is empty = {stack.is_empty()}\")"
   ]
  },
  {
   "cell_type": "markdown",
   "id": "a416b481",
   "metadata": {},
   "source": [
    "## implementing STACK using QUEUE"
   ]
  },
  {
   "cell_type": "code",
   "execution_count": 4,
   "id": "028cf00a",
   "metadata": {},
   "outputs": [
    {
     "name": "stdout",
     "output_type": "stream",
     "text": [
      "deque([9, 1, 100, 200, 300])\n",
      "deque([1, 100, 200, 300])\n"
     ]
    }
   ],
   "source": [
    "from collections import deque\n",
    "lst = deque([])\n",
    "lst.append(100)\n",
    "lst.append(200)\n",
    "lst.append(300)\n",
    "lst.appendleft(1)\n",
    "lst.appendleft(9)\n",
    "\n",
    "print(lst)\n",
    "lst.popleft()\n",
    "print(lst)"
   ]
  },
  {
   "cell_type": "code",
   "execution_count": 17,
   "id": "21a811f1",
   "metadata": {},
   "outputs": [
    {
     "name": "stdout",
     "output_type": "stream",
     "text": [
      "Stack content = [3, 2, 1]\n",
      "Popped item = 3\n",
      "Stack content = [2, 1]\n",
      "Top item after pop = 2\n",
      "Stack is empty = False\n"
     ]
    }
   ],
   "source": [
    "from collections import deque\n",
    "class StackUsingQueue:\n",
    "\n",
    "\n",
    "    def __init__(self):\n",
    "        self.queue  =deque()\n",
    "\n",
    "\n",
    "    def push(self,item):\n",
    "        self.queue.append(item)\n",
    "        for _ in range(len(self.queue)-1):\n",
    "            self.queue.append(self.queue.popleft()) \n",
    "\n",
    "\n",
    "    def pop(self):\n",
    "        if len(self.queue) ==0:\n",
    "            return \"stack is empty\"\n",
    "        return self.queue.popleft()\n",
    "    \n",
    "\n",
    "    def peek(self):\n",
    "        if len(self.queue) ==0:\n",
    "            return \"Stack is empty\"\n",
    "        return self.queue[0]\n",
    "    \n",
    "\n",
    "    def is_empty(self):\n",
    "        return len(self.queue) ==0\n",
    "    \n",
    "\n",
    "    def size(self):\n",
    "        return len(self.queue)\n",
    "    \n",
    "\n",
    "    def __str__(self): # this is used to print the list of stack isko directly bhi kr skte ho bhosdike --> line no = 47\n",
    "        return str(list(self.queue))\n",
    "    \n",
    "\n",
    "if __name__ == \"__main__\":\n",
    "    stack = StackUsingQueue()\n",
    "    stack.push(1)\n",
    "    stack.push(2)\n",
    "    stack.push(3)\n",
    "    print(f\"Stack content = {stack}\")  # Note: This will print the object reference\n",
    "    print(f\"Popped item = {stack.pop()}\")\n",
    "    print(f\"Stack content = {stack}\")\n",
    "    # print(\"stack content is\",str(list(stack.queue)))\n",
    "    print(f\"Top item after pop = {stack.peek()}\")\n",
    "    print(f\"Stack is empty = {stack.is_empty()}\")\n"
   ]
  },
  {
   "cell_type": "markdown",
   "id": "849a4ae7",
   "metadata": {},
   "source": [
    "### IMplementation QUEUE using STACKS"
   ]
  },
  {
   "cell_type": "code",
   "execution_count": 1,
   "id": "5cefcb68",
   "metadata": {},
   "outputs": [
    {
     "name": "stdout",
     "output_type": "stream",
     "text": [
      "null null null 4 8 false "
     ]
    }
   ],
   "source": [
    "class StackQueue:\n",
    "    def __init__(self):\n",
    "        self.st1 = []  # Main stack for storing elements in queue order\n",
    "        self.st2 = []  # Auxiliary stack for temporary storage during operations\n",
    "\n",
    "    def push(self, x):\n",
    "        # Move everything from st1 to st2\n",
    "        while self.st1:\n",
    "            self.st2.append(self.st1.pop())\n",
    "        \n",
    "        # Add the new element to the bottom of st1\n",
    "        self.st1.append(x)\n",
    "        \n",
    "        # Move everything back from st2 to st1\n",
    "        while self.st2:\n",
    "            self.st1.append(self.st2.pop())\n",
    "\n",
    "    def pop(self):\n",
    "        if not self.st1:\n",
    "            print(\"Stack is empty\")\n",
    "            return -1  # Representing empty queue\n",
    "        \n",
    "        # Simply pop from st1 since elements are stored in queue order\n",
    "        top_element = self.st1.pop()\n",
    "        return top_element\n",
    "\n",
    "    def peek(self):\n",
    "        if not self.st1:\n",
    "            print(\"Stack is empty\")\n",
    "            return -1\n",
    "        \n",
    "        # Return the top element without removing it\n",
    "        return self.st1[-1]\n",
    "\n",
    "    def is_empty(self):\n",
    "        return not self.st1  # Return True if st1 is empty\n",
    "\n",
    "\n",
    "if __name__ == \"__main__\":\n",
    "    q = StackQueue()\n",
    "\n",
    "    # List of commands\n",
    "    commands = [\"StackQueue\", \"push\", \"push\", \"pop\", \"peek\", \"isEmpty\"]\n",
    "    # List of inputs\n",
    "    inputs = [[], [4], [8], [], [], []]\n",
    "\n",
    "    for i in range(len(commands)):\n",
    "        if commands[i] == \"push\":\n",
    "            q.push(inputs[i][0])\n",
    "            print(\"null\", end=\" \")\n",
    "        elif commands[i] == \"pop\":\n",
    "            print(q.pop(), end=\" \")\n",
    "        elif commands[i] == \"peek\":\n",
    "            print(q.peek(), end=\" \")\n",
    "        elif commands[i] == \"isEmpty\":\n",
    "            print(\"true\" if q.is_empty() else \"false\", end=\" \")\n",
    "        elif commands[i] == \"StackQueue\":\n",
    "            print(\"null\", end=\" \")\n",
    "\n"
   ]
  },
  {
   "cell_type": "code",
   "execution_count": null,
   "id": "2f970da5",
   "metadata": {},
   "outputs": [],
   "source": []
  }
 ],
 "metadata": {
  "kernelspec": {
   "display_name": "Python (socialmedia_env)",
   "language": "python",
   "name": "socialmedia_env"
  },
  "language_info": {
   "codemirror_mode": {
    "name": "ipython",
    "version": 3
   },
   "file_extension": ".py",
   "mimetype": "text/x-python",
   "name": "python",
   "nbconvert_exporter": "python",
   "pygments_lexer": "ipython3",
   "version": "3.12.4"
  }
 },
 "nbformat": 4,
 "nbformat_minor": 5
}
