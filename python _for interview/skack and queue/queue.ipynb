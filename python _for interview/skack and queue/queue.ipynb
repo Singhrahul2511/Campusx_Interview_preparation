{
 "cells": [
  {
   "cell_type": "code",
   "execution_count": 3,
   "id": "9591cb1c",
   "metadata": {},
   "outputs": [
    {
     "name": "stdout",
     "output_type": "stream",
     "text": [
      "Queue items = 1\n",
      "Queue content = [2, 3]\n"
     ]
    }
   ],
   "source": [
    "class Queue:\n",
    "    def __init__(self):\n",
    "        self.items = []\n",
    "\n",
    "    def is_empty(self):\n",
    "        return len(self.items) ==0\n",
    "    \n",
    "    def enqueue(self,items):\n",
    "        self.items.append(items)\n",
    "    def dequeue(self):\n",
    "        if len(self.items) ==0:\n",
    "            print(\"Can not dequeue from empty queue\")\n",
    "            return\n",
    "        x = self.items.pop(0)\n",
    "        return x\n",
    "    def front(self):\n",
    "        if len(self.items) ==0:\n",
    "            print(\"can not front, queue is empty\")\n",
    "            return \n",
    "        return self.items[0]\n",
    "    def rear(self):\n",
    "        if len(self.items) ==0:\n",
    "            print(\"can not rear, queue is empty\")\n",
    "            return \n",
    "        return self.items[-1]\n",
    "    def size(self):\n",
    "        return len(self.items)\n",
    "    \n",
    "if __name__ == \"__main__\":\n",
    "    queue = Queue()\n",
    "    queue.enqueue(1)\n",
    "    queue.enqueue(2)\n",
    "    queue.enqueue(3)\n",
    "    print(f\"Queue items = {queue.dequeue()}\")\n",
    "    print(f\"Queue content = {queue.items}\")\n"
   ]
  },
  {
   "cell_type": "code",
   "execution_count": null,
   "id": "5a539de5",
   "metadata": {},
   "outputs": [],
   "source": []
  }
 ],
 "metadata": {
  "kernelspec": {
   "display_name": "Python (socialmedia_env)",
   "language": "python",
   "name": "socialmedia_env"
  },
  "language_info": {
   "codemirror_mode": {
    "name": "ipython",
    "version": 3
   },
   "file_extension": ".py",
   "mimetype": "text/x-python",
   "name": "python",
   "nbconvert_exporter": "python",
   "pygments_lexer": "ipython3",
   "version": "3.12.4"
  }
 },
 "nbformat": 4,
 "nbformat_minor": 5
}
