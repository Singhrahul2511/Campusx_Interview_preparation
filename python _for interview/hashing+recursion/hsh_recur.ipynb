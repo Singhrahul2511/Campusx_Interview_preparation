{
 "cells": [
  {
   "cell_type": "markdown",
   "id": "24cbd8c4",
   "metadata": {},
   "source": [
    "### program to store frequency of elements in dictionary"
   ]
  },
  {
   "cell_type": "code",
   "execution_count": null,
   "id": "66cad5e2",
   "metadata": {},
   "outputs": [
    {
     "name": "stdout",
     "output_type": "stream",
     "text": [
      "2\n",
      "{2: 1, 3: 1, 4: 1, 5: 1, 7: 1, 8: 1, 9: 2, 0: 1}\n"
     ]
    }
   ],
   "source": [
    "nums = [2,3,4,5,7,8,9,9,0]\n",
    "x= 9\n",
    "freq_map = dict()\n",
    "for i in range(len(nums)):\n",
    "    if nums[i] in freq_map:\n",
    "        freq_map[nums[i]] +=1\n",
    "    else:\n",
    "        freq_map[nums[i]] = 1\n",
    "print(freq_map[x])\n",
    "print(freq_map)\n"
   ]
  },
  {
   "cell_type": "markdown",
   "id": "f280510c",
   "metadata": {},
   "source": [
    "### pythonic version of above code"
   ]
  },
  {
   "cell_type": "code",
   "execution_count": 6,
   "id": "4619c373",
   "metadata": {},
   "outputs": [
    {
     "name": "stdout",
     "output_type": "stream",
     "text": [
      "{4: 1, 5: 2, 7: 2, 8: 2, 9: 1}\n"
     ]
    }
   ],
   "source": [
    "nums = [4,5,7,8,5,7,8,9]\n",
    "n = len(nums)\n",
    "fre_map = {}\n",
    "for i in range(n):\n",
    "    fre_map[nums[i]] = fre_map.get(nums[i],0)+1\n",
    "print(fre_map)"
   ]
  },
  {
   "cell_type": "markdown",
   "id": "87561952",
   "metadata": {},
   "source": [
    "### Pre-storing values in some data-structure like List/Dictionary/set and then featching it"
   ]
  },
  {
   "cell_type": "code",
   "execution_count": 22,
   "id": "b8df3c8f",
   "metadata": {},
   "outputs": [
    {
     "name": "stdout",
     "output_type": "stream",
     "text": [
      "1\n",
      "0\n",
      "1\n",
      "0\n",
      "4\n",
      "0\n",
      "2\n"
     ]
    }
   ],
   "source": [
    "## 1 you have given two list and you need to print how many-times each elements of 2nd list came in first list\n",
    "\n",
    "n= [5,3,2,2,1,5,5,7,5,10]\n",
    "m = [10,111,1,9,5,67,2]\n",
    "hash_list = [0]*11\n",
    "for num in n:\n",
    "    hash_list[num] +=1\n",
    "\n",
    "for num in m:\n",
    "    if num<1 or num>10:\n",
    "        print(0)\n",
    "    else:\n",
    "        print(hash_list[num])"
   ]
  },
  {
   "cell_type": "markdown",
   "id": "ada303c5",
   "metadata": {},
   "source": [
    "### using dict"
   ]
  },
  {
   "cell_type": "code",
   "execution_count": 26,
   "id": "438d3a28",
   "metadata": {},
   "outputs": [
    {
     "name": "stdout",
     "output_type": "stream",
     "text": [
      "{10: 1, 1: 3, 4: 2, 3: 2, 9: 0, 5: 5, 2: 4}\n"
     ]
    }
   ],
   "source": [
    "n = [5,3,2,2,1,1,5,4,4,3,2,2,7,8,8,8,6,1,5,5,7,5,10]\n",
    "\n",
    "m = [10,111,1,4,3,9,5,67,2]\n",
    "\n",
    "# from collections import Counter\n",
    "\n",
    "# freq_map = Counter(n)\n",
    "# count_dict = {num: freq_map.get(num, 0) for num in m if num <= 10}\n",
    "# print(count_dict)\n",
    "\n",
    "\n",
    "freq_map = {}\n",
    "\n",
    "for num in n:\n",
    "\n",
    "    if num in freq_map:\n",
    "\n",
    "        freq_map[num] += 1\n",
    "\n",
    "    else:\n",
    "\n",
    "        freq_map[num] = 1\n",
    "\n",
    "count_dict = {}\n",
    "\n",
    "for num in m:\n",
    "\n",
    "    if num <= 10:\n",
    "\n",
    "        if num in freq_map:\n",
    "\n",
    "            count_dict[num] = freq_map[num]\n",
    "\n",
    "        else:\n",
    "\n",
    "            count_dict[num] = 0\n",
    "\n",
    "print(count_dict)\n",
    "\n"
   ]
  },
  {
   "cell_type": "markdown",
   "id": "f0720854",
   "metadata": {},
   "source": [
    "### same operation on String"
   ]
  },
  {
   "cell_type": "code",
   "execution_count": 42,
   "id": "2f185eb2",
   "metadata": {},
   "outputs": [
    {
     "name": "stdout",
     "output_type": "stream",
     "text": [
      "0\n",
      "5\n",
      "3\n",
      "1\n"
     ]
    }
   ],
   "source": [
    "s = \"azyxyyzaaaa\"\n",
    "q = [\"d\",\"a\",\"y\",\"x\"]\n",
    "\n",
    "for ch in q:\n",
    "    cnt =0\n",
    "    for chh in s:\n",
    "        if chh ==ch:\n",
    "            cnt +=1\n",
    "    print(cnt)"
   ]
  },
  {
   "cell_type": "markdown",
   "id": "bbb6a161",
   "metadata": {},
   "source": [
    "### i am now storing it into dict"
   ]
  },
  {
   "cell_type": "code",
   "execution_count": 51,
   "id": "9c968437",
   "metadata": {},
   "outputs": [
    {
     "name": "stdout",
     "output_type": "stream",
     "text": [
      "{'d': 0, 'a': 5, 'y': 3, 'x': 1}\n"
     ]
    }
   ],
   "source": [
    "s = \"azyxyyzaaaa\"\n",
    "q = [\"d\",\"a\",\"y\",\"x\"]\n",
    "freq_map = {}\n",
    "for ch in s:\n",
    "    if ch in freq_map:\n",
    "        freq_map[ch] +=1\n",
    "    else:\n",
    "        freq_map[ch] = 1\n",
    "# print(freq_map)\n",
    "count_dict = {}\n",
    "for ch in q:\n",
    "    if ch in freq_map:\n",
    "        count_dict[ch] = freq_map[ch]\n",
    "    else:\n",
    "        count_dict [ch]= 0\n",
    "print(count_dict)"
   ]
  },
  {
   "cell_type": "markdown",
   "id": "c88a6117",
   "metadata": {},
   "source": [
    "### doing this by using ascii_value"
   ]
  },
  {
   "cell_type": "code",
   "execution_count": 2,
   "id": "5cde1179",
   "metadata": {},
   "outputs": [
    {
     "name": "stdout",
     "output_type": "stream",
     "text": [
      "0\n",
      "5\n",
      "3\n",
      "1\n"
     ]
    }
   ],
   "source": [
    "s = \"azyxyyzaaaa\"\n",
    "q = [\"d\",\"a\",\"y\",\"x\"]\n",
    "hash_list = [0]*26\n",
    "for ch in s:\n",
    "    ascii_val = ord(ch)\n",
    "    index = ascii_val -97\n",
    "    hash_list[index] +=1\n",
    "\n",
    "for ch in q:\n",
    "    ascii_val = ord(ch)\n",
    "    index = ascii_val -97\n",
    "    print(hash_list[index])\n"
   ]
  },
  {
   "cell_type": "markdown",
   "id": "f06ed73b",
   "metadata": {},
   "source": [
    "### Head and Tail Recuesion"
   ]
  },
  {
   "cell_type": "code",
   "execution_count": 9,
   "id": "76d798f9",
   "metadata": {},
   "outputs": [
    {
     "name": "stdout",
     "output_type": "stream",
     "text": [
      "Rahul\n",
      "Rahul\n",
      "Rahul\n",
      "Rahul\n"
     ]
    }
   ],
   "source": [
    "## head recursion\n",
    "count =0\n",
    "def fun():\n",
    "    global count\n",
    "    if count ==4:\n",
    "        return\n",
    "    print(\"Rahul\") \n",
    "    count +=1\n",
    "    fun()\n",
    "fun()"
   ]
  },
  {
   "cell_type": "code",
   "execution_count": null,
   "id": "1af3fbb3",
   "metadata": {},
   "outputs": [
    {
     "name": "stdout",
     "output_type": "stream",
     "text": [
      "Rahul\n",
      "Rahul\n",
      "Rahul\n",
      "Rahul\n"
     ]
    }
   ],
   "source": [
    "## tail recursion\n",
    "count =0\n",
    "def fun():  # tail recursion is generally know as Backtracking \n",
    "    global count\n",
    "    if count ==4:  # tc for both = 0(n+1) and sc = 0(n+1)\n",
    "        return \n",
    "    count +=1\n",
    "    fun()\n",
    "    print(\"Rahul\")\n",
    "fun()"
   ]
  },
  {
   "cell_type": "code",
   "execution_count": null,
   "id": "105f8637",
   "metadata": {},
   "outputs": [
    {
     "name": "stdout",
     "output_type": "stream",
     "text": [
      "2\n",
      "4\n",
      "6\n",
      "8\n",
      "10\n",
      "12\n",
      "14\n",
      "16\n",
      "18\n"
     ]
    }
   ],
   "source": [
    "def fun(x,n):\n",
    "    if x>n:\n",
    "        return\n",
    "    print(x)   # yaha observe kro ki pahle hm apna job kr rhe hai phr function ko call kr rha hu isiliye ye Head recursion hai\n",
    "    fun(x+2,n)\n",
    "\n",
    "fun(2,18)"
   ]
  },
  {
   "cell_type": "code",
   "execution_count": 9,
   "id": "9bb9dacc",
   "metadata": {},
   "outputs": [
    {
     "name": "stdout",
     "output_type": "stream",
     "text": [
      "2\n",
      "4\n",
      "6\n",
      "8\n",
      "10\n",
      "12\n",
      "14\n",
      "16\n",
      "18\n"
     ]
    }
   ],
   "source": [
    "#using tail\n",
    "def fun(x,n):\n",
    "    if x>n:\n",
    "        return  \n",
    "    fun(x+2,n)\n",
    "    print(n-(x-2)) \n",
    "\n",
    "fun(2,18)"
   ]
  },
  {
   "cell_type": "code",
   "execution_count": 19,
   "id": "eb8921fa",
   "metadata": {},
   "outputs": [
    {
     "name": "stdout",
     "output_type": "stream",
     "text": [
      "21\n"
     ]
    }
   ],
   "source": [
    "## sum of n natural number using parameterized way\n",
    "\n",
    "def fun(sum ,i, n):\n",
    "    if i>n:\n",
    "        print(sum)\n",
    "        return\n",
    "    fun(sum+i,i+1,n)\n",
    "fun(0,1,6)"
   ]
  },
  {
   "cell_type": "code",
   "execution_count": 22,
   "id": "472acd36",
   "metadata": {},
   "outputs": [
    {
     "data": {
      "text/plain": [
       "21"
      ]
     },
     "execution_count": 22,
     "metadata": {},
     "output_type": "execute_result"
    }
   ],
   "source": [
    "## using functional call\n",
    "def fun(n):\n",
    "    if n==1:\n",
    "        return 1\n",
    "    return n +fun(n-1)\n",
    "fun(6)"
   ]
  },
  {
   "cell_type": "code",
   "execution_count": null,
   "id": "9b94cd78",
   "metadata": {},
   "outputs": [],
   "source": []
  }
 ],
 "metadata": {
  "kernelspec": {
   "display_name": "Python (socialmedia_env)",
   "language": "python",
   "name": "socialmedia_env"
  },
  "language_info": {
   "codemirror_mode": {
    "name": "ipython",
    "version": 3
   },
   "file_extension": ".py",
   "mimetype": "text/x-python",
   "name": "python",
   "nbconvert_exporter": "python",
   "pygments_lexer": "ipython3",
   "version": "3.12.4"
  }
 },
 "nbformat": 4,
 "nbformat_minor": 5
}
