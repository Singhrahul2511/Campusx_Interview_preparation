{
 "cells": [
  {
   "cell_type": "markdown",
   "id": "0e12d7e0",
   "metadata": {},
   "source": [
    "insert\n",
    "insert variation\n",
    "insert multiple\n"
   ]
  },
  {
   "cell_type": "markdown",
   "id": "1c09c535",
   "metadata": {},
   "source": [
    "\n",
    "### how to import data in mysql workbench\n",
    "select all\n",
    "filter cols\n",
    "alias-> renaming cols\n",
    "create expression using cols\n",
    "constants\n",
    "Distinct(unique) values from a col\n",
    "Distinct combos\n",
    "Filter rows WHERE clause\n",
    "** find all samsung phones\n",
    "** find all phones with price > 50000"
   ]
  },
  {
   "cell_type": "markdown",
   "id": "9f2da0c7",
   "metadata": {},
   "source": [
    "- BETWEEN\n",
    "** find all phones in the price range of 10000 and 20000\n",
    "** find phones with rating > 80 and price < 2.5000\n",
    "** find all samsung phones with ram > 8GB\n",
    "** find all samsung phones with snapdragon processor\n",
    "\n",
    "\n",
    "-Query Execution Order\n",
    "** find brands who sell phones with price > 50000\n",
    "-IN and NOT IN"
   ]
  },
  {
   "cell_type": "markdown",
   "id": "2024548d",
   "metadata": {},
   "source": [
    "- Update\n",
    "-Delete\n",
    "** delete all phones price > 200000\n",
    "-Types of functions in SQL\n",
    "-Aggregate Functions\n",
    "MAX/MIN\n",
    "** find the minimum and maximum price\n",
    "** find the price of the costliest samsung phone\n",
    "AVG\n",
    "** find avg rating of apple phones\n",
    "SUM\n",
    "COUNT\n",
    "** find the number of oneplus phones\n",
    "COUNT(DISTINCT)\n",
    "** find the number of brands available"
   ]
  },
  {
   "cell_type": "markdown",
   "id": "ff689300",
   "metadata": {},
   "source": [
    "-> STD\n",
    "** find std of screen sizes\n",
    "-> VAR\n",
    "** find variance of Xiomi phone prices\n",
    "Scalar Functions\n",
    "-> ABS\n",
    "** find diff from avg rating of all samsung phone ratings\n",
    "-> ROUND\n",
    "** round the ppi to 1 decimal place\n",
    "-> CEIL/FLOOR\n",
    "** floor/ceil the rating\n",
    "Practice\n",
    "** Find the average battery capacity and the average primary rear camera resolution for all smartphones with a price greater than or equal to 100000\n",
    "** Find the average internal memory capacity of smartphones that have a refresh rate of 120 Hz or higher and a front-facing camera resolution greater than or equal to 20 megapixels.\n",
    "** Find the number of smartphones with 5G capability"
   ]
  }
 ],
 "metadata": {
  "language_info": {
   "name": "python"
  }
 },
 "nbformat": 4,
 "nbformat_minor": 5
}
